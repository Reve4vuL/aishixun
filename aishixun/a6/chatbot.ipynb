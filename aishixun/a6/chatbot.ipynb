{
 "cells": [
  {
   "cell_type": "code",
   "execution_count": 39,
   "metadata": {},
   "outputs": [],
   "source": [
    "import jieba"
   ]
  },
  {
   "cell_type": "markdown",
   "metadata": {},
   "source": [
    "# 基本聊天机器人常识"
   ]
  },
  {
   "cell_type": "code",
   "execution_count": 40,
   "metadata": {},
   "outputs": [
    {
     "name": "stdout",
     "output_type": "stream",
     "text": [
      "精确分词模式： ['下雨', '下雨天', '雨天', '留客', '天', '留', '我', '不留']\n"
     ]
    }
   ],
   "source": [
    "# 全模式\n",
    "result = jieba.lcut(\"下雨天留客天留我不留\", cut_all=True)\n",
    "print(\"精确分词模式：\",result)"
   ]
  },
  {
   "cell_type": "code",
   "execution_count": 41,
   "metadata": {},
   "outputs": [
    {
     "name": "stdout",
     "output_type": "stream",
     "text": [
      "全模式： ['下雨天', '留客', '天留', '我', '不留']\n"
     ]
    }
   ],
   "source": [
    "# 精确模式\n",
    "result = jieba.lcut(\"下雨天留客天留我不留\", cut_all=False)\n",
    "print(\"全模式：\",result)"
   ]
  },
  {
   "cell_type": "code",
   "execution_count": 42,
   "metadata": {},
   "outputs": [
    {
     "name": "stdout",
     "output_type": "stream",
     "text": [
      "搜索引擎模式： ['下雨', '雨天', '下雨天', '留客', '天留', '我', '不留']\n"
     ]
    }
   ],
   "source": [
    "# 搜索引擎模式\n",
    "result = jieba.lcut_for_search(\"下雨天留客天留我不留\")\n",
    "print(\"搜索引擎模式：\",result)"
   ]
  },
  {
   "cell_type": "markdown",
   "metadata": {},
   "source": [
    "# 文本表示"
   ]
  },
  {
   "cell_type": "code",
   "execution_count": 43,
   "metadata": {},
   "outputs": [],
   "source": [
    "# 定义词转向量方式\n",
    "def get_word_vector_result(word):\n",
    "    result = []\n",
    "    for i in word_vector_list:\n",
    "        if i == word:\n",
    "            result.append(1)\n",
    "        else:\n",
    "            result.append(0)\n",
    "    return result"
   ]
  },
  {
   "cell_type": "code",
   "execution_count": 44,
   "metadata": {},
   "outputs": [
    {
     "name": "stdout",
     "output_type": "stream",
     "text": [
      "分词结果： ['下雨天', '留客', '天留', '我', '不留']\n",
      "词向量结果： [[1, 0, 0, 0, 0], [0, 1, 0, 0, 0], [0, 0, 1, 0, 0], [0, 0, 0, 1, 0], [0, 0, 0, 0, 1]]\n"
     ]
    }
   ],
   "source": [
    "word_vector_list = [\"下雨天\",\"留客\",\"天留\",\"我\",\"不留\"]\n",
    "word = \"下雨天留客天留我不留\"\n",
    "result = jieba.lcut(word)\n",
    "print(\"分词结果：\",result)\n",
    "word_vector = []\n",
    "for i in result:\n",
    "    word_vector.append(get_word_vector_result(i))\n",
    "print(\"词向量结果：\",word_vector)"
   ]
  },
  {
   "cell_type": "markdown",
   "metadata": {},
   "source": [
    "# 项目实现"
   ]
  },
  {
   "cell_type": "code",
   "execution_count": 45,
   "metadata": {},
   "outputs": [],
   "source": [
    "import pandas as pd"
   ]
  },
  {
   "cell_type": "markdown",
   "metadata": {},
   "source": [
    "## 语料库处理"
   ]
  },
  {
   "cell_type": "code",
   "execution_count": 67,
   "metadata": {},
   "outputs": [],
   "source": [
    "f1 = pd.read_csv(\"taozhe.txt\", encoding=\"utf-8\")\n"
   ]
  },
  {
   "cell_type": "code",
   "execution_count": 66,
   "metadata": {},
   "outputs": [],
   "source": [
    "# 对 语 料 库 进 行 分 词 ，分 词 结 果 存 人 f e n c i _ r e s u l t . t x t 文 件 \n",
    "f1 = open ('taozhe.txt', encoding=\"utf8\")\n",
    "f2 = open ('fenci_result.txt', 'a', encoding= \"utf8\") \n",
    "lines = f1.readlines()\n",
    "for line in lines:\n",
    "    line.replace('\\t', '').replace ('\\n', '') .replace(' ', '')\n",
    "    seg_list = jieba. cut(line) # 将词汇以空格隔开\n",
    "    f2.write(' '.join(seg_list)) \n",
    "f1.close()\n",
    "f2.close()"
   ]
  },
  {
   "cell_type": "code",
   "execution_count": 69,
   "metadata": {},
   "outputs": [],
   "source": [
    "from gensim.models import word2vec\n",
    "sentences = word2vec.Text8Corpus(\"fenci_result.txt\")\n",
    "model = word2vec.Word2Vec(sentences)\n",
    "model.save(\"word2vec.model\")"
   ]
  },
  {
   "cell_type": "markdown",
   "metadata": {},
   "source": [
    "## 对话处理"
   ]
  },
  {
   "cell_type": "code",
   "execution_count": 98,
   "metadata": {},
   "outputs": [
    {
     "name": "stdout",
     "output_type": "stream",
     "text": [
      "[{'title': '陶喆的人机交往', 'reply': '啊啊啊南宁的朋友 胡彦斌我好想你 penny我做了错饭 我不喜欢程度因为我结婚了因为成都美女太多了'}, {'title': '陶喆的歌曲', 'reply': '月亮代表谁的心 小镇姑娘 流沙 十七岁 爱我还是她 飞机场的10:30'}]\n"
     ]
    }
   ],
   "source": [
    "import json\n",
    "f3 = open('templet.json',  encoding='utf-8')\n",
    "str = ''\n",
    "for line in f3.readlines():\n",
    "    str += line\n",
    "contents = json.loads(str)\n",
    "f3.close()\n",
    "print(contents)"
   ]
  },
  {
   "cell_type": "markdown",
   "metadata": {},
   "source": [
    "## 寻找最大相似度回答"
   ]
  },
  {
   "cell_type": "code",
   "execution_count": 107,
   "metadata": {},
   "outputs": [
    {
     "name": "stdout",
     "output_type": "stream",
     "text": [
      "陶喆的人机交往\n",
      "陶喆的歌曲\n"
     ]
    }
   ],
   "source": [
    "for i in range(len(contents)):\n",
    "    print(contents[i]['title'])"
   ]
  },
  {
   "cell_type": "code",
   "execution_count": 108,
   "metadata": {},
   "outputs": [],
   "source": [
    "import random\n",
    "import math\n",
    "def answer(input):\n",
    "    similarityMax =0\n",
    "    similarityIndex = -1\n",
    "\n",
    "    input_word_arr = list(jieba.cut(input))\n",
    "\n",
    "    #遍历规则库\n",
    "\n",
    "    for i in range(len(contents)):\n",
    "        title_word_arr = list(jieba.cut(contents[i]['title'].replace(' ','')))\n",
    "        try:\n",
    "            similarity = model.wv.n_similarity(input_word_arr,title_word_arr)\n",
    "        except Exception:\n",
    "            similarity =0\n",
    "\n",
    "        if similarityMax < similarity:\n",
    "            similarityMax = similarity\n",
    "            similarityIndex = i\n",
    "    \n",
    "    if similarityIndex != -1:\n",
    "        # 随机返回一个回答\n",
    "        reply_index = math.floor(random.random() * len(contents[similarityIndex]['reply']))\n",
    "        if reply_index>=0:\n",
    "            return {'title':contents[similarityIndex]['title'],\"reply\": contents[similarityIndex]['reply'][reply_index]}\n",
    "    \n",
    "    return {\"title\":\"无\", \"reply\":\"抱歉我不太明白你的意思\"}"
   ]
  },
  {
   "cell_type": "code",
   "execution_count": 109,
   "metadata": {},
   "outputs": [
    {
     "name": "stdout",
     "output_type": "stream",
     "text": [
      "{'title': '陶喆的歌曲', 'reply': ' '}\n"
     ]
    }
   ],
   "source": [
    "my_input = input(\"请输入：\")\n",
    "print(answer(my_input))"
   ]
  }
 ],
 "metadata": {
  "kernelspec": {
   "display_name": "base",
   "language": "python",
   "name": "python3"
  },
  "language_info": {
   "codemirror_mode": {
    "name": "ipython",
    "version": 3
   },
   "file_extension": ".py",
   "mimetype": "text/x-python",
   "name": "python",
   "nbconvert_exporter": "python",
   "pygments_lexer": "ipython3",
   "version": "3.11.5"
  }
 },
 "nbformat": 4,
 "nbformat_minor": 2
}
