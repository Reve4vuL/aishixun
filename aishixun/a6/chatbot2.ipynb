{
 "cells": [
  {
   "cell_type": "code",
   "execution_count": 1,
   "metadata": {},
   "outputs": [
    {
     "name": "stdout",
     "output_type": "stream",
     "text": [
      "mu = sadasd\n"
     ]
    }
   ],
   "source": [
    "mu_input = input(\"Enter mu: \")\n",
    "print(\"mu = \" + mu_input)"
   ]
  },
  {
   "cell_type": "code",
   "execution_count": 1,
   "metadata": {},
   "outputs": [],
   "source": [
    "import random\n",
    "import math\n",
    "def answer(input):\n",
    "    similarityMax = 0\n",
    "    similarityIndex = -1\n",
    "    input_word_arr = list(jieba.cut(input))\n",
    "    for i in range(len(contents)):\n",
    "        title_word_arr = list(jieba.cut(contents[i]['title'].replace(' ', ''))) \n",
    "\n",
    "        try:\n",
    "            similarity = model.wv.n_similarity (input_word_arr, title_word_arr)\n",
    "        except Exception: \n",
    "            similarity = 0\n",
    "# 存储当前最大相似度及其下标\n",
    "        if similarityMax<similarity:\n",
    "            similarityMax = similarity\n",
    "            similarityIndex = i\n",
    "    if similarityIndex!=-1:\n",
    "        reply_index = math.floor (random.random () * len(contents[similarityIndex][ 'reply']))\n",
    "        if reply_index:\n",
    "            return {\"title\": contents[similarityIndex]['title'], \"reply\":content[similarityIndex]['reply'][reply_index]}\n",
    "    return {\"title\" : \"无\" , \"reply\" : \"抱歉，我不太明白您的意思\" }"
   ]
  }
 ],
 "metadata": {
  "kernelspec": {
   "display_name": "base",
   "language": "python",
   "name": "python3"
  },
  "language_info": {
   "codemirror_mode": {
    "name": "ipython",
    "version": 3
   },
   "file_extension": ".py",
   "mimetype": "text/x-python",
   "name": "python",
   "nbconvert_exporter": "python",
   "pygments_lexer": "ipython3",
   "version": "3.11.5"
  }
 },
 "nbformat": 4,
 "nbformat_minor": 2
}
