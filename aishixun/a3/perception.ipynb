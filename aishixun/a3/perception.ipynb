{
 "cells": [
  {
   "cell_type": "code",
   "execution_count": 15,
   "metadata": {},
   "outputs": [],
   "source": [
    "import numpy as np"
   ]
  },
  {
   "cell_type": "code",
   "execution_count": 21,
   "metadata": {},
   "outputs": [],
   "source": [
    "x = np.array([[1,2],[1,3],[3,4],[5,6]])\n",
    "y = np.array([1,1,1,-1])\n",
    "w = np.array([0,0])\n",
    "b = 0"
   ]
  },
  {
   "cell_type": "code",
   "execution_count": 22,
   "metadata": {},
   "outputs": [],
   "source": [
    "def mul(x,w):\n",
    "    return np.dot(x,w)"
   ]
  },
  {
   "cell_type": "code",
   "execution_count": 23,
   "metadata": {},
   "outputs": [],
   "source": [
    "# 感知机算法\n",
    "def perceptron(x,y,w,b):\n",
    "    epoch = 0\n",
    "    flag = True\n",
    "    while flag:\n",
    "        flag = False\n",
    "        for i in range(len(x)):\n",
    "            if y[i]*(np.dot(w,x[i])+b) <= 0:\n",
    "                #print(\"false:\",x[i],y[i],f\"w = {w},b = {b}\")\n",
    "                w = w + y[i]*x[i]\n",
    "                b = b + y[i]\n",
    "                flag = True\n",
    "        print(f\"epoch = {epoch}\")\n",
    "        for i in range(len(x)):\n",
    "            if y[i]*(np.dot(w,x[i])+b) <= 0:\n",
    "                print(\"false:\",x[i],y[i],f\"w = {w},b = {b}\")\n",
    "            else:\n",
    "                print(\"true:\",x[i],y[i],f\"w = {w},b = {b}\")\n",
    "        epoch += 1\n",
    "                \n",
    "    return w,b"
   ]
  },
  {
   "cell_type": "code",
   "execution_count": 24,
   "metadata": {},
   "outputs": [
    {
     "name": "stdout",
     "output_type": "stream",
     "text": [
      "epoch = 0\n",
      "false: [1 2] 1 w = [-4 -4],b = 0\n",
      "false: [1 3] 1 w = [-4 -4],b = 0\n",
      "false: [3 4] 1 w = [-4 -4],b = 0\n",
      "true: [5 6] -1 w = [-4 -4],b = 0\n",
      "epoch = 1\n",
      "false: [1 2] 1 w = [-4 -1],b = 2\n",
      "false: [1 3] 1 w = [-4 -1],b = 2\n",
      "false: [3 4] 1 w = [-4 -1],b = 2\n",
      "true: [5 6] -1 w = [-4 -1],b = 2\n",
      "epoch = 2\n",
      "false: [1 2] 1 w = [-5 -1],b = 3\n",
      "false: [1 3] 1 w = [-5 -1],b = 3\n",
      "false: [3 4] 1 w = [-5 -1],b = 3\n",
      "true: [5 6] -1 w = [-5 -1],b = 3\n",
      "epoch = 3\n",
      "false: [1 2] 1 w = [-6 -1],b = 4\n",
      "false: [1 3] 1 w = [-6 -1],b = 4\n",
      "false: [3 4] 1 w = [-6 -1],b = 4\n",
      "true: [5 6] -1 w = [-6 -1],b = 4\n",
      "epoch = 4\n",
      "false: [1 2] 1 w = [-7 -1],b = 5\n",
      "false: [1 3] 1 w = [-7 -1],b = 5\n",
      "false: [3 4] 1 w = [-7 -1],b = 5\n",
      "true: [5 6] -1 w = [-7 -1],b = 5\n",
      "epoch = 5\n",
      "false: [1 2] 1 w = [-8 -1],b = 6\n",
      "false: [1 3] 1 w = [-8 -1],b = 6\n",
      "false: [3 4] 1 w = [-8 -1],b = 6\n",
      "true: [5 6] -1 w = [-8 -1],b = 6\n",
      "epoch = 6\n",
      "false: [1 2] 1 w = [-9 -1],b = 7\n",
      "false: [1 3] 1 w = [-9 -1],b = 7\n",
      "false: [3 4] 1 w = [-9 -1],b = 7\n",
      "true: [5 6] -1 w = [-9 -1],b = 7\n",
      "epoch = 7\n",
      "false: [1 2] 1 w = [-10  -1],b = 8\n",
      "false: [1 3] 1 w = [-10  -1],b = 8\n",
      "false: [3 4] 1 w = [-10  -1],b = 8\n",
      "true: [5 6] -1 w = [-10  -1],b = 8\n",
      "epoch = 8\n",
      "false: [1 2] 1 w = [-11  -1],b = 9\n",
      "false: [1 3] 1 w = [-11  -1],b = 9\n",
      "false: [3 4] 1 w = [-11  -1],b = 9\n",
      "true: [5 6] -1 w = [-11  -1],b = 9\n",
      "epoch = 9\n",
      "false: [1 2] 1 w = [-12  -1],b = 10\n",
      "false: [1 3] 1 w = [-12  -1],b = 10\n",
      "false: [3 4] 1 w = [-12  -1],b = 10\n",
      "true: [5 6] -1 w = [-12  -1],b = 10\n",
      "epoch = 10\n",
      "false: [1 2] 1 w = [-13  -1],b = 11\n",
      "false: [1 3] 1 w = [-13  -1],b = 11\n",
      "false: [3 4] 1 w = [-13  -1],b = 11\n",
      "true: [5 6] -1 w = [-13  -1],b = 11\n",
      "epoch = 11\n",
      "true: [1 2] 1 w = [-9  5],b = 13\n",
      "true: [1 3] 1 w = [-9  5],b = 13\n",
      "true: [3 4] 1 w = [-9  5],b = 13\n",
      "true: [5 6] -1 w = [-9  5],b = 13\n",
      "epoch = 12\n",
      "true: [1 2] 1 w = [-9  5],b = 13\n",
      "true: [1 3] 1 w = [-9  5],b = 13\n",
      "true: [3 4] 1 w = [-9  5],b = 13\n",
      "true: [5 6] -1 w = [-9  5],b = 13\n",
      "[-9  5] 13\n"
     ]
    }
   ],
   "source": [
    "# 训练\n",
    "w,b = perceptron(x,y,w,b)\n",
    "print(w,b)"
   ]
  }
 ],
 "metadata": {
  "kernelspec": {
   "display_name": "base",
   "language": "python",
   "name": "python3"
  },
  "language_info": {
   "codemirror_mode": {
    "name": "ipython",
    "version": 3
   },
   "file_extension": ".py",
   "mimetype": "text/x-python",
   "name": "python",
   "nbconvert_exporter": "python",
   "pygments_lexer": "ipython3",
   "version": "3.11.5"
  }
 },
 "nbformat": 4,
 "nbformat_minor": 2
}
