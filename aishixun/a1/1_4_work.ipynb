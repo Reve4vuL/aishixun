{
 "cells": [
  {
   "cell_type": "code",
   "execution_count": 2,
   "metadata": {},
   "outputs": [],
   "source": [
    "x = float(input(\"请输入一个数字：\"))"
   ]
  },
  {
   "cell_type": "code",
   "execution_count": 3,
   "metadata": {},
   "outputs": [],
   "source": [
    "if x <= -1:\n",
    "    y = sin(x) + 1\n",
    "elif x > -1 and x <= 2:\n",
    "    y = abs(x) + 1\n",
    "else:\n",
    "    y = 3 + pow(x, 2)"
   ]
  },
  {
   "cell_type": "code",
   "execution_count": 4,
   "metadata": {},
   "outputs": [
    {
     "name": "stdout",
     "output_type": "stream",
     "text": [
      "f(2.00) = 3.00\n"
     ]
    }
   ],
   "source": [
    "y_round = round(y, 2)\n",
    "print(\"f({:.2f}) = {:.2f}\".format(x, y_round))"
   ]
  }
 ],
 "metadata": {
  "kernelspec": {
   "display_name": "base",
   "language": "python",
   "name": "python3"
  },
  "language_info": {
   "codemirror_mode": {
    "name": "ipython",
    "version": 3
   },
   "file_extension": ".py",
   "mimetype": "text/x-python",
   "name": "python",
   "nbconvert_exporter": "python",
   "pygments_lexer": "ipython3",
   "version": "3.11.5"
  }
 },
 "nbformat": 4,
 "nbformat_minor": 2
}
