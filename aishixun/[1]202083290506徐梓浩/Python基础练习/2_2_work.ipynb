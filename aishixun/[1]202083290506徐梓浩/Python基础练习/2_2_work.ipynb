{
 "cells": [
  {
   "cell_type": "code",
   "execution_count": 3,
   "metadata": {},
   "outputs": [],
   "source": [
    "n = float(input(\"请输入鸡的数量\"))\n",
    "m = float(input(\"请输入兔的数量\"))"
   ]
  },
  {
   "cell_type": "code",
   "execution_count": 4,
   "metadata": {},
   "outputs": [],
   "source": [
    "def func(n,m):\n",
    "    if n%1==0 and m%1==0 and n>0 and m>0:\n",
    "        a = 2*n\n",
    "        b = 4*m\n",
    "        if a+b == 94:\n",
    "            print(\"鸡的数量为%d,兔的数量为%d\"%(n,m))\n",
    "        else:\n",
    "            print(\"无解\")\n",
    "    else:\n",
    "        print(\"输入错误\")"
   ]
  },
  {
   "cell_type": "code",
   "execution_count": 6,
   "metadata": {},
   "outputs": [
    {
     "name": "stdout",
     "output_type": "stream",
     "text": [
      "无解\n"
     ]
    }
   ],
   "source": [
    "func(n,m)"
   ]
  }
 ],
 "metadata": {
  "kernelspec": {
   "display_name": "base",
   "language": "python",
   "name": "python3"
  },
  "language_info": {
   "codemirror_mode": {
    "name": "ipython",
    "version": 3
   },
   "file_extension": ".py",
   "mimetype": "text/x-python",
   "name": "python",
   "nbconvert_exporter": "python",
   "pygments_lexer": "ipython3",
   "version": "3.11.5"
  }
 },
 "nbformat": 4,
 "nbformat_minor": 2
}
