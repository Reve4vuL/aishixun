{
 "cells": [
  {
   "cell_type": "code",
   "execution_count": 1,
   "metadata": {},
   "outputs": [],
   "source": [
    "import numpy as np"
   ]
  },
  {
   "cell_type": "code",
   "execution_count": 5,
   "metadata": {},
   "outputs": [],
   "source": [
    "# 创建一个10个元素的列表\n",
    "my_list = []\n",
    "for i in range(10):\n",
    "    value = float(input(f\"请输入第{i+1}个元素：\"))\n",
    "    my_list.append(value)\n"
   ]
  },
  {
   "cell_type": "code",
   "execution_count": 6,
   "metadata": {},
   "outputs": [
    {
     "name": "stdout",
     "output_type": "stream",
     "text": [
      "[10.0, 2.0, 33.0, 12.0, 84.0, 39.0, 22.0, 94.0, 55.0, 67.0]\n"
     ]
    }
   ],
   "source": [
    "# 输出元素\n",
    "print(my_list)"
   ]
  },
  {
   "cell_type": "code",
   "execution_count": 7,
   "metadata": {},
   "outputs": [
    {
     "name": "stdout",
     "output_type": "stream",
     "text": [
      "平均值为：41.8\n",
      "高于平均值的元素个数为：4\n"
     ]
    }
   ],
   "source": [
    "# 求平均并统计高于平均值的个数\n",
    "avg = np.mean(my_list)\n",
    "print(f\"平均值为：{avg}\")\n",
    "count = 0\n",
    "for i in my_list:\n",
    "    if i > avg:\n",
    "        count += 1\n",
    "print(f\"高于平均值的元素个数为：{count}\")"
   ]
  },
  {
   "cell_type": "code",
   "execution_count": 8,
   "metadata": {},
   "outputs": [
    {
     "name": "stdout",
     "output_type": "stream",
     "text": [
      "[94.0, 84.0, 67.0, 55.0, 39.0, 33.0, 22.0, 12.0, 10.0, 2.0]\n"
     ]
    }
   ],
   "source": [
    "# 将元素从大到小排序\n",
    "my_list.sort(reverse=True)\n",
    "print(my_list)"
   ]
  }
 ],
 "metadata": {
  "kernelspec": {
   "display_name": "base",
   "language": "python",
   "name": "python3"
  },
  "language_info": {
   "codemirror_mode": {
    "name": "ipython",
    "version": 3
   },
   "file_extension": ".py",
   "mimetype": "text/x-python",
   "name": "python",
   "nbconvert_exporter": "python",
   "pygments_lexer": "ipython3",
   "version": "3.11.5"
  }
 },
 "nbformat": 4,
 "nbformat_minor": 2
}
