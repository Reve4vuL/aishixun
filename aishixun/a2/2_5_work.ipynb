{
 "cells": [
  {
   "cell_type": "code",
   "execution_count": 6,
   "metadata": {},
   "outputs": [],
   "source": [
    "my_str = \"the next morning he jumps out of bed he runs to the door\""
   ]
  },
  {
   "cell_type": "code",
   "execution_count": 8,
   "metadata": {},
   "outputs": [
    {
     "name": "stdout",
     "output_type": "stream",
     "text": [
      "a 0\n",
      "b 1\n",
      "c 0\n",
      "d 2\n",
      "e 6\n",
      "f 1\n",
      "g 1\n",
      "h 4\n",
      "i 1\n",
      "j 1\n",
      "k 0\n",
      "l 0\n",
      "m 2\n",
      "n 4\n",
      "o 6\n",
      "p 1\n",
      "q 0\n",
      "r 3\n",
      "s 2\n",
      "t 5\n",
      "u 3\n",
      "v 0\n",
      "w 0\n",
      "x 1\n",
      "y 0\n",
      "z 0\n"
     ]
    }
   ],
   "source": [
    "# 统计每个字母出现的次数\n",
    "for i in \"abcdefghijklmnopqrstuvwxyz\":\n",
    "    print(i, my_str.count(i))"
   ]
  },
  {
   "cell_type": "code",
   "execution_count": 9,
   "metadata": {},
   "outputs": [
    {
     "name": "stdout",
     "output_type": "stream",
     "text": [
      "[('e', 6), ('o', 6), ('t', 5), ('h', 4), ('n', 4), ('r', 3), ('u', 3), ('d', 2), ('m', 2), ('s', 2), ('b', 1), ('f', 1), ('g', 1), ('i', 1), ('j', 1), ('p', 1), ('x', 1), ('a', 0), ('c', 0), ('k', 0), ('l', 0), ('q', 0), ('v', 0), ('w', 0), ('y', 0), ('z', 0)]\n",
      "e 6\n",
      "o 6\n",
      "t 5\n",
      "h 4\n",
      "n 4\n",
      "r 3\n",
      "u 3\n",
      "d 2\n",
      "m 2\n",
      "s 2\n",
      "b 1\n",
      "f 1\n",
      "g 1\n",
      "i 1\n",
      "j 1\n",
      "p 1\n",
      "x 1\n",
      "a 0\n",
      "c 0\n",
      "k 0\n",
      "l 0\n",
      "q 0\n",
      "v 0\n",
      "w 0\n",
      "y 0\n",
      "z 0\n"
     ]
    }
   ],
   "source": [
    "# 将字母按照频次降序输出\n",
    "my_list = []\n",
    "for i in \"abcdefghijklmnopqrstuvwxyz\":\n",
    "    my_list.append((i, my_str.count(i)))\n",
    "my_list.sort(key=lambda x: x[1], reverse=True)\n",
    "print(my_list)\n",
    "for i in my_list:\n",
    "    print(i[0], i[1])\n",
    "    "
   ]
  }
 ],
 "metadata": {
  "kernelspec": {
   "display_name": "base",
   "language": "python",
   "name": "python3"
  },
  "language_info": {
   "codemirror_mode": {
    "name": "ipython",
    "version": 3
   },
   "file_extension": ".py",
   "mimetype": "text/x-python",
   "name": "python",
   "nbconvert_exporter": "python",
   "pygments_lexer": "ipython3",
   "version": "3.11.5"
  }
 },
 "nbformat": 4,
 "nbformat_minor": 2
}
